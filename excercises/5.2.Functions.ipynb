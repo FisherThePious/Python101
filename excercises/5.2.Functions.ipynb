{
 "cells": [
  {
   "cell_type": "markdown",
   "metadata": {},
   "source": [
    "<h1 align=center><font size = 5>QUIZ ON FUNCTIONS</font></h1>"
   ]
  },
  {
   "cell_type": "markdown",
   "metadata": {},
   "source": [
    "#### 1) What is the output of the following code?\n",
    "\n",
    "def printLine(text):\n",
    "\n",
    "  print(text, 'is awesome.')\n",
    "\n",
    "printLine('Python')\n",
    "\n"
   ]
  },
  {
   "cell_type": "raw",
   "metadata": {},
   "source": []
  },
  {
   "cell_type": "markdown",
   "metadata": {},
   "source": [
    "#### 2) If return statement is not used inside the function, the function will return:"
   ]
  },
  {
   "cell_type": "raw",
   "metadata": {},
   "source": []
  },
  {
   "cell_type": "markdown",
   "metadata": {},
   "source": [
    "**3) You have a variable called name and ('Frodo', 'Sauron') is assigned to it:<br>\n",
    "name = ('Frodo', 'Sauron')<br>\n",
    "Now you have to create a function \"greetPerson\" such that the output looks like this:<br>\n",
    "('Hello', (('Frodo', 'Sauron'),))**"
   ]
  },
  {
   "cell_type": "markdown",
   "metadata": {},
   "source": [
    "#### 4) What is a recursive function?"
   ]
  },
  {
   "cell_type": "raw",
   "metadata": {},
   "source": []
  },
  {
   "cell_type": "markdown",
   "metadata": {},
   "source": [
    "#### 5) What is the output of the following program?\n",
    "\n",
    "result = lambda x: x * x\n",
    "\n",
    "print(result(5))\n",
    "\n"
   ]
  },
  {
   "cell_type": "raw",
   "metadata": {},
   "source": []
  },
  {
   "cell_type": "markdown",
   "metadata": {},
   "source": [
    "#### 6) What is the output of the following program?\n",
    "\n",
    "def Foo(x):\n",
    "\n",
    "  if (x==1):\n",
    "  \n",
    "    return 1\n",
    "  \n",
    "  else:\n",
    "    \n",
    "    return x+Foo(x-1)\n",
    "\n",
    "print(Foo(4))\n",
    "\n"
   ]
  },
  {
   "cell_type": "raw",
   "metadata": {},
   "source": []
  },
  {
   "cell_type": "markdown",
   "metadata": {},
   "source": [
    "#### 7) What is the output of the following code?\n",
    "\n",
    "numbers = [1, 3, 6]\n",
    "\n",
    "newNumbers = tuple(map(lambda x: x , numbers))\n",
    "\n",
    "print(newNumbers)\n",
    "\n"
   ]
  },
  {
   "cell_type": "raw",
   "metadata": {},
   "source": []
  }
 ],
 "metadata": {
  "kernelspec": {
   "display_name": "Python 3",
   "language": "python",
   "name": "python3"
  },
  "language_info": {
   "codemirror_mode": {
    "name": "ipython",
    "version": 3
   },
   "file_extension": ".py",
   "mimetype": "text/x-python",
   "name": "python",
   "nbconvert_exporter": "python",
   "pygments_lexer": "ipython3",
   "version": "3.8.8"
  },
  "widgets": {
   "state": {},
   "version": "1.1.2"
  }
 },
 "nbformat": 4,
 "nbformat_minor": 1
}
