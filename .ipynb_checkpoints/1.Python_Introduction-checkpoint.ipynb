{
 "cells": [
  {
   "cell_type": "markdown",
   "metadata": {},
   "source": [
    "<img src = \"images/Right logo Transparent Big.png\" width = 300, align = \"center\">"
   ]
  },
  {
   "cell_type": "markdown",
   "metadata": {},
   "source": [
    "# Anaconda\n",
    "---\n",
    "<img src = \"images/anaconda_logo.png\" width = 350, align = \"center\">\n",
    "\n",
    "- Anaconda is a Python distribution that is particularly popular for data analysis and scientific computing.\n",
    "\n",
    "- It is a Open source project developed by Continuum Analytics, Inc.\n",
    "\n",
    "- And it is available for Windows, Mac OS X and Linux\n",
    "\n",
    "- It includes many popular packages: NumPy, SciPy, Matplotlib, Pandas, IPython, Cython\n",
    "\n",
    "- And it also includes Spyder, a Python development environment and conda, a platform-independent package manager.\n",
    "\n",
    "- This brings us to the end of this video.\n",
    "\n",
    "- The hands-on labs after each module will have you practice what you learn, using Jupyter notebooks."
   ]
  },
  {
   "cell_type": "markdown",
   "metadata": {},
   "source": [
    "# Jupyter Notebook\n",
    "---\n",
    "\n",
    "<img src = \"images/jupyter.png\" width = 250, align = \"center\">\n",
    "\n",
    "- The Jupyter Notebook is a web application that allows you to create and share documents that contain live code, equations, visualizations and explanatory text.\n",
    "\n",
    "- It includes data cleaning and transformation, numerical simulation, statistical modeling, machine learning and much more.\n",
    "\n",
    "- The Notebook has support for over 40 programming languages, including those popular in Data Science such as Python, R, Julia and Scala.\n",
    "\n",
    "- Notebooks can be shared with others using email, Dropbox, GitHub and the Jupyter Notebook Viewer.\n",
    "\n",
    "- Code can produce rich output such as images, videos and JavaScript.\n",
    "\n",
    "- Leverage big data tools, such as Apache Spark, from Python, R and Scala."
   ]
  },
  {
   "cell_type": "markdown",
   "metadata": {},
   "source": [
    "# How to start Jupyter Notebook\n",
    "---\n",
    "\n",
    "To start jupyter notebook from termoinal follow these steps:<br>\n",
    "1. Open your terminal.<br>\n",
    "<img src = \"images/terminal.png\" width = 500, align = \"center\"><br><br>\n",
    "2. Type jupyter notebook in your terminal.<br>\n",
    "<img src = \"images/terminal1.png\" width = 500, align = \"center\">"
   ]
  },
  {
   "cell_type": "markdown",
   "metadata": {},
   "source": [
    "- Terminal screen looks like this.<br>\n",
    "<img src = \"images/terminal2.png\" width = 500, align = \"center\"><br><br>\n",
    "- Now your bowser automatically opens up to localhost:8888 or localhost:8889 or some other series of number.<br>\n",
    "<img src = \"images/jupyter1.png\" width = 800, align = \"center\"><br>\n",
    "**Note:** \n",
    "- Keep in mind that while Jupiter notebook does operate inside of your browser it does not require an internet connection. Everything is happening locally.\n",
    "\n",
    "- There's no Internet connection between Jupiter and some other server somewhere.\n",
    "\n",
    "- It just happens to open up and operate in your browser as a convenient graphical interface for you to program in.\n",
    "\n",
    "- So once you launch Jupiter notebook he'll notice that you can view all the files on your computer."
   ]
  },
  {
   "cell_type": "markdown",
   "metadata": {},
   "source": [
    "# Python Introduction\n",
    "---\n",
    "\n",
    "- Python is a widely used general-purpose, high level programming language.\n",
    "\n",
    "- And you can also say that python is a multi-paradigm language that supports object-oriented, procedural and functional programming.\n",
    "\n",
    "- It was initially designed by Guido van Rossum in 1991 and after developed by Python Software foundation in 2001.\n",
    "\n",
    "- It was mainly developed for emphasis on code readability.\n",
    "\n",
    "- Python has syntax that allows developers to write programs with fewer lines than some other programming languages.\n",
    "<img src = \"images/Python-logo.png\" width = 500, align = \"center\">\n"
   ]
  },
  {
   "cell_type": "markdown",
   "metadata": {},
   "source": [
    "# Why Python?\n",
    "---\n",
    "\n",
    "- Based on recent surveys, Python was and still is the MOST popular, high-level, open-source programming language.\n",
    "\n",
    "- It is fast and very easy to learn language, anyone can create programs with it that runs everywhere.\n",
    "\n",
    "- It is particularly great for web-based and database services, and also with its vast libraries Statistical computation can be accomplished in a single language.\n",
    "\n",
    "- Python is also very useful for data visualization and data analytics which includes data cleaning and reformatting.\n",
    "\n",
    "- Python can even be used to write server-side apps, Graphical user interfaces and even tablets and phones apps like IOS and Android.\n",
    "\n",
    "- The use of big data and cloud computing solutions in the enterprise world has also helped skyrocket Python to success. It is one of the most popular languages used in data science. It’s also being used for machine learning and AI systems and various modern technologies.\n",
    "\n",
    "- Python Has a Healthy, Active and Supportive Community, This active community helps ensure that developers of all skills levels — beginner to expert — always have somewhere to find support. Python has been around for quite some time, so there’s plenty of documentation, guides, tutorials and more.\n",
    "\n",
    "<img src = \"images/why_python.png\" width = 500, align = \"center\">"
   ]
  },
  {
   "cell_type": "markdown",
   "metadata": {},
   "source": [
    "# Python Versions\n",
    "---\n",
    "- Python 1.0\n",
    "- Python 2.x\n",
    "- Python 3.x\n",
    "\n",
    "The initial version was published at the alt.sources newsgroup in 1991, and version 1.0 was released in 1994.\n",
    "\n",
    "Python 2.0 was released in 2000, and the 2.x versions were the prevalent releases until December 2008. At that time, the development team made the decision to release version 3.0, which contained a few relatively small but significant changes that were not backward compatible with the 2.x versions.\n",
    "\n",
    "Python 2 and 3 are very similar, and some features of Python 3 have been backported to Python 2. But in general, they remain not quite compatible.\n",
    "\n",
    "Both Python 2 and 3 have continued to be maintained and developed, with periodic release updates for both. As of this writing, the most recent versions available are 2.7.15 and 3.6.5\n",
    "\n",
    "**Note:** This course covers Python 2 and its many new features."
   ]
  }
 ],
 "metadata": {
  "kernelspec": {
   "display_name": "Python 2",
   "language": "python",
   "name": "python2"
  },
  "language_info": {
   "codemirror_mode": {
    "name": "ipython",
    "version": 2
   },
   "file_extension": ".py",
   "mimetype": "text/x-python",
   "name": "python",
   "nbconvert_exporter": "python",
   "pygments_lexer": "ipython2",
   "version": "2.7.12"
  }
 },
 "nbformat": 4,
 "nbformat_minor": 2
}
