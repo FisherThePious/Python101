{
 "cells": [
  {
   "cell_type": "markdown",
   "metadata": {},
   "source": [
    "<h1 align=center><font size = 5>String Operations in PYTHON</font></h1>"
   ]
  },
  {
   "cell_type": "markdown",
   "metadata": {},
   "source": [
    "<br>"
   ]
  },
  {
   "cell_type": "markdown",
   "metadata": {},
   "source": [
    "This notebook will provide information regarding reading text files and performing various operations on Strings."
   ]
  },
  {
   "cell_type": "markdown",
   "metadata": {},
   "source": [
    "## Table of Contents\n",
    "\n",
    "\n",
    "<div class=\"alert alert-block alert-info\" style=\"margin-top: 20px\">\n",
    "<li><a href=\"#ref0\">About the Dataset</a></li>\n",
    "<li><a href=\"#ref1\">Reading Text Files</a></li>\n",
    "<li><a href=\"#ref2\">String Operations</a></li>\n",
    "</div>\n",
    "\n",
    "<hr>"
   ]
  },
  {
   "cell_type": "markdown",
   "metadata": {},
   "source": [
    "<a id=\"ref0\"></a>\n",
    "<h2 align=center>About the Dataset</h2>"
   ]
  },
  {
   "cell_type": "markdown",
   "metadata": {},
   "source": [
    "In this module, we are going to use the ``Thriller.txt`` file. This file contains text data which is basically summary of the **Thriller** album and thereafter going to perform various operations on this data.\n",
    "\n",
    "This is how our data looks:"
   ]
  },
  {
   "cell_type": "markdown",
   "metadata": {},
   "source": [
    "<font face=\"courier new\" size=\"2\">Thriller is the sixth studio album by the American singer Michael Jackson, released on November 30, 1982 by Epic Records. It is the follow-up to Jackson's critically and commercially successful fifth studio album Off the Wall (1979). Thriller explores genres similar to those of Off the Wall, including pop, post-disco, rock and funk. Recording sessions for Thriller took place from April to November 1982 at Westlake Recording Studios in Los Angeles, California with a production budget of \\$750,000 (US \\$1,842,155 in 2016 dollars[1]), assisted by producer Quincy Jones. Of the album's nine tracks, four were written by Jackson. Seven singles were released from the album, all of which reached the top 10 on the Billboard Hot 100 chart. Three of the singles had music videos released. \"Baby Be Mine\" and \"The Lady in My Life\" were the only tracks that were not released as singles from the album.\n",
    "\n",
    "[1] Federal Reserve Bank of Minneapolis Community Development Project. \"Consumer Price Index (estimate) 1800–\". Federal Reserve Bank of Minneapolis. Retrieved October 21, 2016.</font>\n",
    "\n",
    "Source: https://en.wikipedia.org/wiki/Thriller_(Michael_Jackson_album)"
   ]
  },
  {
   "cell_type": "markdown",
   "metadata": {},
   "source": []
  },
  {
   "cell_type": "markdown",
   "metadata": {},
   "source": [
    "<hr>"
   ]
  },
  {
   "cell_type": "markdown",
   "metadata": {},
   "source": [
    "<a id=\"ref1\"></a>\n",
    "<h2 align=center>Reading Text Files</h2>"
   ]
  },
  {
   "cell_type": "markdown",
   "metadata": {},
   "source": [
    "First we use <`wget -O destination source`> to download the text file from the web. We store this file to the path `/resources/data/Thriller.txt`\n",
    "\n",
    "After storing the file on disk, we use `open(path,mode)` to return a file object. Mode indicates what permissions the file object has, i.e. Read/Write `rw` etc.\n",
    "\n",
    "We store the file object to a variable named `file`. "
   ]
  },
  {
   "cell_type": "code",
   "execution_count": 1,
   "metadata": {},
   "outputs": [],
   "source": [
    "import pandas as pd"
   ]
  },
  {
   "cell_type": "code",
   "execution_count": 2,
   "metadata": {
    "scrolled": true
   },
   "outputs": [
    {
     "name": "stdout",
     "output_type": "stream",
     "text": [
      "Name of the file: dataset/thriller.txt\n"
     ]
    }
   ],
   "source": [
    "file = open(\"dataset/thriller.txt\",\"r\", encoding=\"mbcs\")\n",
    "print(\"Name of the file:\" , file.name)"
   ]
  },
  {
   "cell_type": "markdown",
   "metadata": {},
   "source": [
    "To read the file, we invoke `readlines()` on the file variable. Lets store this text file to the `summary` variable. Next, lets print out the text."
   ]
  },
  {
   "cell_type": "code",
   "execution_count": 3,
   "metadata": {
    "scrolled": true
   },
   "outputs": [
    {
     "name": "stdout",
     "output_type": "stream",
     "text": [
      "Read Line: [\"Thriller is the sixth studio album by the American singer Michael Jackson, released on November 30, 1982 by Epic Records. It is the follow-up to Jackson's critically and commercially successful fifth studio album Off the Wall (1979). Thriller explores genres similar to those of Off the Wall, including pop, post-disco, rock and funk. Recording sessions for Thriller took place from April to November 1982 at Westlake Recording Studios in Los Angeles, California with a production budget of 750,000(ð\\x9d‘ˆð\\x9d‘†\\n\", '\\n', '1,842,155 in 2016 dollars[1]), assisted by producer Quincy Jones. Of the album\\'s nine tracks, four were written by Jackson. Seven singles were released from the album, all of which reached the top 10 on the Billboard Hot 100 chart. Three of the singles had music videos released. \"Baby Be Mine\" and \"The Lady in My Life\" were the only tracks that were not released as singles from the album.\\n', '\\n', '[1] Federal Reserve Bank of Minneapolis Community Development Project. \"Consumer Price Index (estimate) 1800â€“\". Federal Reserve Bank of Minneapolis. Retrieved October 21, 2016.\\n']\n"
     ]
    }
   ],
   "source": [
    "summary = file.readlines()\n",
    "print (\"Read Line: %s\" % (summary)) "
   ]
  },
  {
   "cell_type": "markdown",
   "metadata": {},
   "source": [
    "It's always good practice to close a file after you're done reading it. We invoke the `close()` command to do that. "
   ]
  },
  {
   "cell_type": "code",
   "execution_count": 4,
   "metadata": {},
   "outputs": [],
   "source": [
    "file.close()"
   ]
  },
  {
   "cell_type": "markdown",
   "metadata": {},
   "source": [
    "<hr>"
   ]
  },
  {
   "cell_type": "markdown",
   "metadata": {},
   "source": [
    "<a id=\"ref2\"></a>\n",
    "<h2 align=center>String Operations</h2>"
   ]
  },
  {
   "cell_type": "markdown",
   "metadata": {},
   "source": [
    "There are many string operation methods in Python that can be used to manipulate the data. We are going to use some basic string operations on the data that we read before. In this lession, we go over the following: \n",
    "- len()\n",
    "- lower(),upper()\n",
    "- replace()\n",
    "- split()\n",
    "- count()\n",
    "- sort()\n",
    "- String slicing"
   ]
  },
  {
   "cell_type": "markdown",
   "metadata": {},
   "source": [
    "<h3 style=\"font-size:120%\">len()</h3>"
   ]
  },
  {
   "cell_type": "markdown",
   "metadata": {},
   "source": [
    "The first function is ``len()`` which return the total number of characters in the given string. Let's find out how many characters are there in the first line of the ``summary`` variable."
   ]
  },
  {
   "cell_type": "code",
   "execution_count": 5,
   "metadata": {},
   "outputs": [
    {
     "name": "stdout",
     "output_type": "stream",
     "text": [
      "Thriller is the sixth studio album by the American singer Michael Jackson, released on November 30, 1982 by Epic Records. It is the follow-up to Jackson's critically and commercially successful fifth studio album Off the Wall (1979). Thriller explores genres similar to those of Off the Wall, including pop, post-disco, rock and funk. Recording sessions for Thriller took place from April to November 1982 at Westlake Recording Studios in Los Angeles, California with a production budget of 750,000(ð‘ˆð‘†\n",
      "\n"
     ]
    },
    {
     "data": {
      "text/plain": [
       "508"
      ]
     },
     "execution_count": 5,
     "metadata": {},
     "output_type": "execute_result"
    }
   ],
   "source": [
    "print(summary[0])\n",
    "len(summary[0])              "
   ]
  },
  {
   "cell_type": "markdown",
   "metadata": {},
   "source": [
    "<br>"
   ]
  },
  {
   "cell_type": "markdown",
   "metadata": {},
   "source": [
    "<h3 style=\"font-size:120%\">upper()</h3>"
   ]
  },
  {
   "cell_type": "markdown",
   "metadata": {},
   "source": [
    "Sometimes we need the whole string to be in Upper Case. To do so, there is a function called ``upper()`` in Python, which takes a string as input and provides the whole string in upper case as output."
   ]
  },
  {
   "cell_type": "code",
   "execution_count": 6,
   "metadata": {},
   "outputs": [
    {
     "data": {
      "text/plain": [
       "\"THRILLER IS THE SIXTH STUDIO ALBUM BY THE AMERICAN SINGER MICHAEL JACKSON, RELEASED ON NOVEMBER 30, 1982 BY EPIC RECORDS. IT IS THE FOLLOW-UP TO JACKSON'S CRITICALLY AND COMMERCIALLY SUCCESSFUL FIFTH STUDIO ALBUM OFF THE WALL (1979). THRILLER EXPLORES GENRES SIMILAR TO THOSE OF OFF THE WALL, INCLUDING POP, POST-DISCO, ROCK AND FUNK. RECORDING SESSIONS FOR THRILLER TOOK PLACE FROM APRIL TO NOVEMBER 1982 AT WESTLAKE RECORDING STUDIOS IN LOS ANGELES, CALIFORNIA WITH A PRODUCTION BUDGET OF 750,000(Ð\\x9d‘ˆÐ\\x9d‘†\\n\""
      ]
     },
     "execution_count": 6,
     "metadata": {},
     "output_type": "execute_result"
    }
   ],
   "source": [
    "to_upper = summary[0].upper()\n",
    "to_upper"
   ]
  },
  {
   "cell_type": "markdown",
   "metadata": {},
   "source": [
    "In the above code block, we converted the summary text to all uppercase."
   ]
  },
  {
   "cell_type": "markdown",
   "metadata": {},
   "source": [
    "<br>"
   ]
  },
  {
   "cell_type": "markdown",
   "metadata": {},
   "source": [
    "<h3 style=\"font-size:120%\">lower()</h3>"
   ]
  },
  {
   "cell_type": "markdown",
   "metadata": {},
   "source": [
    "Similarly, the **lower()** function can be used to convert whole string into lower case. Let's convert the same string that we converted in uppercase, to lowercase."
   ]
  },
  {
   "cell_type": "code",
   "execution_count": 8,
   "metadata": {},
   "outputs": [
    {
     "data": {
      "text/plain": [
       "\"Thriller Is The Sixth Studio Album By The American Singer Michael Jackson, Released On November 30, 1982 By Epic Records. It Is The Follow-Up To Jackson'S Critically And Commercially Successful Fifth Studio Album Off The Wall (1979). Thriller Explores Genres Similar To Those Of Off The Wall, Including Pop, Post-Disco, Rock And Funk. Recording Sessions For Thriller Took Place From April To November 1982 At Westlake Recording Studios In Los Angeles, California With A Production Budget Of 750,000(Ð\\x9d‘ˆÐ\\x9d‘†\\n\""
      ]
     },
     "execution_count": 8,
     "metadata": {},
     "output_type": "execute_result"
    }
   ],
   "source": [
    "to_lower = summary[0].title()\n",
    "to_lower"
   ]
  },
  {
   "cell_type": "markdown",
   "metadata": {},
   "source": [
    "We can clearly see the difference between the outputs of last two functions."
   ]
  },
  {
   "cell_type": "markdown",
   "metadata": {},
   "source": [
    "<h3 style=\"font-size:120%\">replace()</h3>"
   ]
  },
  {
   "cell_type": "markdown",
   "metadata": {},
   "source": [
    "What if we want to replace characters in a string?\n",
    "\n",
    "This operation can also be performed in Python using the ``replace()`` function which takes two arguments. The first argument is the characters which we want to replace in the string and the second argument is the new characters.\n",
    "\n",
    "Let's replace **white spaces** in the string with the **Hyphens (“-”)** in the first element of the ``summary`` variable. "
   ]
  },
  {
   "cell_type": "code",
   "execution_count": 9,
   "metadata": {},
   "outputs": [
    {
     "data": {
      "text/plain": [
       "\"Thriller-is-the-sixth-studio-album-by-the-American-singer-Michael-Jackson,-released-on-November-30,-1982-by-Epic-Records.-It-is-the-follow-up-to-Jackson's-critically-and-commercially-successful-fifth-studio-album-Off-the-Wall-(1979).-Thriller-explores-genres-similar-to-those-of-Off-the-Wall,-including-pop,-post-disco,-rock-and-funk.-Recording-sessions-for-Thriller-took-place-from-April-to-November-1982-at-Westlake-Recording-Studios-in-Los-Angeles,-California-with-a-production-budget-of-750,000(ð\\x9d‘ˆð\\x9d‘†\\n\""
      ]
     },
     "execution_count": 9,
     "metadata": {},
     "output_type": "execute_result"
    }
   ],
   "source": [
    "replace_chars = summary[0].replace(\" \", \"-\")\n",
    "replace_chars"
   ]
  },
  {
   "cell_type": "markdown",
   "metadata": {},
   "source": [
    "### count()"
   ]
  },
  {
   "cell_type": "markdown",
   "metadata": {},
   "source": [
    "We can count occurrences of words in strings using `count()`. Let's find out how many times the word \"Thriller\" occurs in `summary`."
   ]
  },
  {
   "cell_type": "code",
   "execution_count": 10,
   "metadata": {},
   "outputs": [
    {
     "data": {
      "text/plain": [
       "3"
      ]
     },
     "execution_count": 10,
     "metadata": {},
     "output_type": "execute_result"
    }
   ],
   "source": [
    "summary[0].count('Thriller')"
   ]
  },
  {
   "cell_type": "markdown",
   "metadata": {},
   "source": [
    "<h3 style=\"font-size:120%\">split()</h3>"
   ]
  },
  {
   "cell_type": "markdown",
   "metadata": {},
   "source": [
    "Previously, we learned that we can read files line-by-line using the ``readlines()`` function. But what if we want to split the given string word-by-word?\n",
    "\n",
    "This can be done using ``split()`` method. Let's split the string according to the white spaces."
   ]
  },
  {
   "cell_type": "code",
   "execution_count": 11,
   "metadata": {},
   "outputs": [
    {
     "data": {
      "text/plain": [
       "['Thriller',\n",
       " 'is',\n",
       " 'the',\n",
       " 'sixth',\n",
       " 'studio',\n",
       " 'album',\n",
       " 'by',\n",
       " 'the',\n",
       " 'American',\n",
       " 'singer',\n",
       " 'Michael',\n",
       " 'Jackson,',\n",
       " 'released',\n",
       " 'on',\n",
       " 'November',\n",
       " '30,',\n",
       " '1982',\n",
       " 'by',\n",
       " 'Epic',\n",
       " 'Records.',\n",
       " 'It',\n",
       " 'is',\n",
       " 'the',\n",
       " 'follow-up',\n",
       " 'to',\n",
       " \"Jackson's\",\n",
       " 'critically',\n",
       " 'and',\n",
       " 'commercially',\n",
       " 'successful',\n",
       " 'fifth',\n",
       " 'studio',\n",
       " 'album',\n",
       " 'Off',\n",
       " 'the',\n",
       " 'Wall',\n",
       " '(1979).',\n",
       " 'Thriller',\n",
       " 'explores',\n",
       " 'genres',\n",
       " 'similar',\n",
       " 'to',\n",
       " 'those',\n",
       " 'of',\n",
       " 'Off',\n",
       " 'the',\n",
       " 'Wall,',\n",
       " 'including',\n",
       " 'pop,',\n",
       " 'post-disco,',\n",
       " 'rock',\n",
       " 'and',\n",
       " 'funk.',\n",
       " 'Recording',\n",
       " 'sessions',\n",
       " 'for',\n",
       " 'Thriller',\n",
       " 'took',\n",
       " 'place',\n",
       " 'from',\n",
       " 'April',\n",
       " 'to',\n",
       " 'November',\n",
       " '1982',\n",
       " 'at',\n",
       " 'Westlake',\n",
       " 'Recording',\n",
       " 'Studios',\n",
       " 'in',\n",
       " 'Los',\n",
       " 'Angeles,',\n",
       " 'California',\n",
       " 'with',\n",
       " 'a',\n",
       " 'production',\n",
       " 'budget',\n",
       " 'of',\n",
       " '750,000(ð\\x9d‘ˆð\\x9d‘†']"
      ]
     },
     "execution_count": 11,
     "metadata": {},
     "output_type": "execute_result"
    }
   ],
   "source": [
    "word_list = summary[0].split()\n",
    "word_list"
   ]
  },
  {
   "cell_type": "markdown",
   "metadata": {},
   "source": [
    "<h3 style=\"font-size:120%\">sort()</h3>"
   ]
  },
  {
   "cell_type": "markdown",
   "metadata": {},
   "source": [
    "Sorting is also possible in Python. Let's use ``sort()`` method to sort elements of the ``word_list`` in ascending order."
   ]
  },
  {
   "cell_type": "code",
   "execution_count": 12,
   "metadata": {},
   "outputs": [
    {
     "data": {
      "text/plain": [
       "['(1979).',\n",
       " '1982',\n",
       " '1982',\n",
       " '30,',\n",
       " '750,000(ð\\x9d‘ˆð\\x9d‘†',\n",
       " 'American',\n",
       " 'Angeles,',\n",
       " 'April',\n",
       " 'California',\n",
       " 'Epic',\n",
       " 'It',\n",
       " \"Jackson's\",\n",
       " 'Jackson,',\n",
       " 'Los',\n",
       " 'Michael',\n",
       " 'November',\n",
       " 'November',\n",
       " 'Off',\n",
       " 'Off',\n",
       " 'Recording',\n",
       " 'Recording',\n",
       " 'Records.',\n",
       " 'Studios',\n",
       " 'Thriller',\n",
       " 'Thriller',\n",
       " 'Thriller',\n",
       " 'Wall',\n",
       " 'Wall,',\n",
       " 'Westlake',\n",
       " 'a',\n",
       " 'album',\n",
       " 'album',\n",
       " 'and',\n",
       " 'and',\n",
       " 'at',\n",
       " 'budget',\n",
       " 'by',\n",
       " 'by',\n",
       " 'commercially',\n",
       " 'critically',\n",
       " 'explores',\n",
       " 'fifth',\n",
       " 'follow-up',\n",
       " 'for',\n",
       " 'from',\n",
       " 'funk.',\n",
       " 'genres',\n",
       " 'in',\n",
       " 'including',\n",
       " 'is',\n",
       " 'is',\n",
       " 'of',\n",
       " 'of',\n",
       " 'on',\n",
       " 'place',\n",
       " 'pop,',\n",
       " 'post-disco,',\n",
       " 'production',\n",
       " 'released',\n",
       " 'rock',\n",
       " 'sessions',\n",
       " 'similar',\n",
       " 'singer',\n",
       " 'sixth',\n",
       " 'studio',\n",
       " 'studio',\n",
       " 'successful',\n",
       " 'the',\n",
       " 'the',\n",
       " 'the',\n",
       " 'the',\n",
       " 'the',\n",
       " 'those',\n",
       " 'to',\n",
       " 'to',\n",
       " 'to',\n",
       " 'took',\n",
       " 'with']"
      ]
     },
     "execution_count": 12,
     "metadata": {},
     "output_type": "execute_result"
    }
   ],
   "source": [
    "word_list.sort()\n",
    "word_list"
   ]
  },
  {
   "cell_type": "markdown",
   "metadata": {},
   "source": [
    "<h3 style=\"font-size:120%\">Slicing Lists(Slicing)</h3>"
   ]
  },
  {
   "cell_type": "markdown",
   "metadata": {},
   "source": [
    "We can slice the word list, to return a subsection of the list. \n",
    "\n",
    "This is done by using `word_list[start:end]`\n",
    "\n",
    "In our example, we return all list items from position 8 to 29. We store this new list into the variable `substring`."
   ]
  },
  {
   "cell_type": "code",
   "execution_count": 13,
   "metadata": {
    "scrolled": true
   },
   "outputs": [
    {
     "data": {
      "text/plain": [
       "['California',\n",
       " 'Epic',\n",
       " 'It',\n",
       " \"Jackson's\",\n",
       " 'Jackson,',\n",
       " 'Los',\n",
       " 'Michael',\n",
       " 'November',\n",
       " 'November',\n",
       " 'Off',\n",
       " 'Off',\n",
       " 'Recording',\n",
       " 'Recording',\n",
       " 'Records.',\n",
       " 'Studios',\n",
       " 'Thriller',\n",
       " 'Thriller',\n",
       " 'Thriller',\n",
       " 'Wall',\n",
       " 'Wall,',\n",
       " 'Westlake',\n",
       " 'a']"
      ]
     },
     "execution_count": 13,
     "metadata": {},
     "output_type": "execute_result"
    }
   ],
   "source": [
    "substring = word_list[8:30]\n",
    "substring"
   ]
  },
  {
   "cell_type": "markdown",
   "metadata": {},
   "source": [
    "---"
   ]
  }
 ],
 "metadata": {
  "kernelspec": {
   "display_name": "Python 3",
   "language": "python",
   "name": "python3"
  },
  "language_info": {
   "codemirror_mode": {
    "name": "ipython",
    "version": 3
   },
   "file_extension": ".py",
   "mimetype": "text/x-python",
   "name": "python",
   "nbconvert_exporter": "python",
   "pygments_lexer": "ipython3",
   "version": "3.8.8"
  },
  "widgets": {
   "state": {},
   "version": "1.1.2"
  }
 },
 "nbformat": 4,
 "nbformat_minor": 1
}
