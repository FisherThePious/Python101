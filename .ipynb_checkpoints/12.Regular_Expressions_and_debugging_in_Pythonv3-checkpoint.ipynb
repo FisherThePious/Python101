{
 "cells": [
  {
   "cell_type": "markdown",
   "metadata": {},
   "source": [
    "<img src = \"images/Right logo Transparent Big.png\" width = 300, align = \"center\">\n",
    "\n",
    "<h1 align=center><font size = 5>SIMPLE REGULAR EXPRESSIONS and DEBUGGING IN PYTHON</font></h1>"
   ]
  },
  {
   "cell_type": "markdown",
   "metadata": {},
   "source": [
    "### Table of contents\n",
    "\n",
    "<div class=\"alert alert-block alert-info\" style=\"margin-top: 20px\">\n",
    "<p><a href=\"#ref9001\">Loading in Data</a></p>\n",
    "<p><a href=\"#funyarinpa\">Regular Expressions</a></p>\n",
    "<p><a href=\"#imyourpoutine\">Regular Expression in Python</a></p>\n",
    "<p><a href=\"#ref1\">What is debugging and error handling?</a></p>\n",
    "<p><a href=\"#ref2\">Error catching</a></p>\n",
    "</div>"
   ]
  },
  {
   "cell_type": "markdown",
   "metadata": {},
   "source": [
    "<a id=\"ref9001\"></a>\n",
    "<center><h1>Loading in Data</h1></center>"
   ]
  },
  {
   "cell_type": "markdown",
   "metadata": {},
   "source": [
    "Let's create a small collection of emails to perform some data analysis and take a look at it."
   ]
  },
  {
   "cell_type": "code",
   "execution_count": 1,
   "metadata": {},
   "outputs": [
    {
     "data": {
      "text/plain": [
       "{'Email': ['doej@example.com',\n",
       "  'jadoe@sample.ca',\n",
       "  'qsus@example.br',\n",
       "  'joes@sample.com'],\n",
       " 'Name': ['John Doe', 'Jane Doe', 'Susan Quinn', 'Joe Star']}"
      ]
     },
     "execution_count": 1,
     "metadata": {},
     "output_type": "execute_result"
    }
   ],
   "source": [
    "email_dict = {'Name': ['John Doe','Jane Doe','Susan Quinn','Joe Star'],\\\n",
    "              'Email' : ['doej@example.com', 'jadoe@sample.ca', 'qsus@example.br', 'joes@sample.com']}\n",
    "email_dict"
   ]
  },
  {
   "cell_type": "markdown",
   "metadata": {},
   "source": [
    "Our simple dataset contains a list of names and a list of their corresponding emails. Let's say we want to find email addresses and simultaneously segment each address into its 3 components:username, domain name and domain suffix.If we split the string at the '@', we still won't have what we want since even emails with the same domains might have different regional extensions. So how can we easily extract the necessary data in a quick and easy way?"
   ]
  },
  {
   "cell_type": "markdown",
   "metadata": {},
   "source": [
    "<a id=\"funyarinpa\"></a>\n",
    "<center><h1>Regular Expressions</h1></center>"
   ]
  },
  {
   "cell_type": "markdown",
   "metadata": {},
   "source": [
    "**Regular Expressions** are generic expressions that are used to match patterns in strings and text. A way we can exemplify this is with a simple expression that can match with an email string. But before we write it, let's look at how an email is structured:\n",
    "\n",
    "<h1 align=center><font size = 3>test@testing.com</font></h1>\n",
    "\n",
    "So, an email is composed by a string followed by an '@' symbol followed by another string. In Python regular expressions, we can express this as:\n",
    "\n",
    "<h1 align=center><font size = 3>.+@.+</font></h1>\n",
    "\n",
    "Where:\n",
    "* The '.' symbol matches with any character.\n",
    "* The '+' symbol repeats the previous symbol one or more times. So, '.+' will match with any string with one or more characters.\n",
    "* The '@' symbol only matches with the '@' character.\n",
    "\n",
    "Now, for our problem, which is extracting the domain from an email excluding the regional url code, we need an expression that specifically matches with what we want:\n",
    "\n",
    "<h1 align=center><font size = 3>@.+\\\\.</font></h1>\n",
    "\n",
    "Where the '\\\\.' symbol specifically matches with the '.' character."
   ]
  },
  {
   "cell_type": "markdown",
   "metadata": {},
   "source": [
    "<a id=\"imyourpoutine\"></a>\n",
    "<center><h1>Regular Expressions in Python</h1></center>"
   ]
  },
  {
   "cell_type": "markdown",
   "metadata": {},
   "source": [
    "To go over **Regular Expressions**, we’ll be using this simple string of email addresses with different domains and regions. So, let’s say we want to specifically perform data analysis on the domains contained in each email address. But, even addresses with the same domain can possess different URLs due to regional differences. So we simply need to extract everything between the ‘@’ and the ‘.’ symbol. But how can we do that since domain names have variable lengths and might even possess strange characters within them?\n"
   ]
  },
  {
   "cell_type": "code",
   "execution_count": 2,
   "metadata": {},
   "outputs": [],
   "source": [
    "import pandas as pd"
   ]
  },
  {
   "cell_type": "code",
   "execution_count": 3,
   "metadata": {},
   "outputs": [
    {
     "data": {
      "text/html": [
       "<div>\n",
       "<style scoped>\n",
       "    .dataframe tbody tr th:only-of-type {\n",
       "        vertical-align: middle;\n",
       "    }\n",
       "\n",
       "    .dataframe tbody tr th {\n",
       "        vertical-align: top;\n",
       "    }\n",
       "\n",
       "    .dataframe thead th {\n",
       "        text-align: right;\n",
       "    }\n",
       "</style>\n",
       "<table border=\"1\" class=\"dataframe\">\n",
       "  <thead>\n",
       "    <tr style=\"text-align: right;\">\n",
       "      <th></th>\n",
       "      <th>Name</th>\n",
       "      <th>Email</th>\n",
       "    </tr>\n",
       "  </thead>\n",
       "  <tbody>\n",
       "    <tr>\n",
       "      <th>0</th>\n",
       "      <td>John Doe</td>\n",
       "      <td>doej@example.com</td>\n",
       "    </tr>\n",
       "    <tr>\n",
       "      <th>1</th>\n",
       "      <td>Jane Doe</td>\n",
       "      <td>jadoe@sample.ca</td>\n",
       "    </tr>\n",
       "    <tr>\n",
       "      <th>2</th>\n",
       "      <td>Susan Quinn</td>\n",
       "      <td>qsus@example.br</td>\n",
       "    </tr>\n",
       "    <tr>\n",
       "      <th>3</th>\n",
       "      <td>Joe Star</td>\n",
       "      <td>joes@sample.com</td>\n",
       "    </tr>\n",
       "  </tbody>\n",
       "</table>\n",
       "</div>"
      ],
      "text/plain": [
       "          Name             Email\n",
       "0     John Doe  doej@example.com\n",
       "1     Jane Doe   jadoe@sample.ca\n",
       "2  Susan Quinn   qsus@example.br\n",
       "3     Joe Star   joes@sample.com"
      ]
     },
     "execution_count": 3,
     "metadata": {},
     "output_type": "execute_result"
    }
   ],
   "source": [
    "df = pd.DataFrame(email_dict,columns = ['Name','Email'])\n",
    "df"
   ]
  },
  {
   "cell_type": "code",
   "execution_count": 4,
   "metadata": {},
   "outputs": [
    {
     "data": {
      "text/plain": [
       "[u'doej@example.com',\n",
       " u' jadoe@sample.ca',\n",
       " u' qsus@example.br',\n",
       " u' joes@sample.com']"
      ]
     },
     "execution_count": 4,
     "metadata": {},
     "output_type": "execute_result"
    }
   ],
   "source": [
    "emails = df['Email'].to_string(header = False,index=False)\n",
    "emails = emails.splitlines()\n",
    "emails"
   ]
  },
  {
   "cell_type": "code",
   "execution_count": 5,
   "metadata": {},
   "outputs": [
    {
     "name": "stdout",
     "output_type": "stream",
     "text": [
      "doej@example.com's domain is example\n",
      " jadoe@sample.ca's domain is sample\n",
      " qsus@example.br's domain is example\n",
      " joes@sample.com's domain is sample\n"
     ]
    }
   ],
   "source": [
    "import re\n",
    "\n",
    "pattern = r'.+@(.+)\\.' # the parentheses here specify a group. \n",
    "                        # we can access the content matched in this group using .group(1) (see below)\n",
    "regex = re.compile(pattern)\n",
    "\n",
    "for email in emails:\n",
    "    result = regex.match(email)\n",
    "    print (email + '\\'s domain is ' + result.group(1))"
   ]
  },
  {
   "cell_type": "markdown",
   "metadata": {},
   "source": [
    "<a id='ref1'></a>\n",
    "<center><h1>What is debugging and error handling?</h1></center>"
   ]
  },
  {
   "cell_type": "markdown",
   "metadata": {},
   "source": [
    "*What do you get when you try to add  **`a + 10`**? An error!*"
   ]
  },
  {
   "cell_type": "code",
   "execution_count": 7,
   "metadata": {},
   "outputs": [
    {
     "ename": "TypeError",
     "evalue": "cannot concatenate 'str' and 'int' objects",
     "output_type": "error",
     "traceback": [
      "\u001b[0;31m---------------------------------------------------------------------------\u001b[0m",
      "\u001b[0;31mTypeError\u001b[0m                                 Traceback (most recent call last)",
      "\u001b[0;32m<ipython-input-7-0380f7482717>\u001b[0m in \u001b[0;36m<module>\u001b[0;34m()\u001b[0m\n\u001b[0;32m----> 1\u001b[0;31m \u001b[0;34m\"a\"\u001b[0m \u001b[0;34m+\u001b[0m \u001b[0;36m10\u001b[0m\u001b[0;34m\u001b[0m\u001b[0m\n\u001b[0m",
      "\u001b[0;31mTypeError\u001b[0m: cannot concatenate 'str' and 'int' objects"
     ]
    }
   ],
   "source": [
    "\"a\" + 10"
   ]
  },
  {
   "cell_type": "markdown",
   "metadata": {},
   "source": [
    "*And what happens to your code if an error occurs? It halts!*"
   ]
  },
  {
   "cell_type": "code",
   "execution_count": 9,
   "metadata": {},
   "outputs": [
    {
     "ename": "TypeError",
     "evalue": "'tuple' object does not support item assignment",
     "output_type": "error",
     "traceback": [
      "\u001b[0;31m---------------------------------------------------------------------------\u001b[0m",
      "\u001b[0;31mTypeError\u001b[0m                                 Traceback (most recent call last)",
      "\u001b[0;32m<ipython-input-9-56ac816c0392>\u001b[0m in \u001b[0;36m<module>\u001b[0;34m()\u001b[0m\n\u001b[1;32m      1\u001b[0m \u001b[0mlist1\u001b[0m \u001b[0;34m=\u001b[0m \u001b[0;34m(\u001b[0m\u001b[0;36m3\u001b[0m\u001b[0;34m,\u001b[0m\u001b[0;36m5\u001b[0m\u001b[0;34m,\u001b[0m\u001b[0;34m(\u001b[0m\u001b[0;36m3\u001b[0m\u001b[0;34m,\u001b[0m\u001b[0;36m5\u001b[0m\u001b[0;34m)\u001b[0m\u001b[0;34m)\u001b[0m\u001b[0;34m\u001b[0m\u001b[0m\n\u001b[0;32m----> 2\u001b[0;31m \u001b[0mlist1\u001b[0m\u001b[0;34m[\u001b[0m\u001b[0;36m1\u001b[0m\u001b[0;34m]\u001b[0m \u001b[0;34m=\u001b[0m \u001b[0;34m'four'\u001b[0m\u001b[0;34m\u001b[0m\u001b[0m\n\u001b[0m",
      "\u001b[0;31mTypeError\u001b[0m: 'tuple' object does not support item assignment"
     ]
    }
   ],
   "source": [
    "list1 = (3,5,(3,5))\n",
    "list1[1] = 'four'"
   ]
  },
  {
   "cell_type": "markdown",
   "metadata": {},
   "source": [
    "These are very simple cases and the sources of the errors are easy to spot. But when it's embedded in a large chunk of code with many parts, it can be difficult to identify when and where an error has occurred. This process of identifying the source of the bug and fixing it is called debugging.\n"
   ]
  },
  {
   "cell_type": "markdown",
   "metadata": {},
   "source": [
    "<a id='ref2'></a>\n",
    "<center><h1>Error Catching</h1></center>"
   ]
  },
  {
   "cell_type": "markdown",
   "metadata": {},
   "source": [
    "If you know an error may occur, the best way to handle the error is to **`catch`** the error while it's happening, so it doesn't prevent the script from halting at the error."
   ]
  },
  {
   "cell_type": "code",
   "execution_count": 11,
   "metadata": {},
   "outputs": [
    {
     "data": {
      "text/plain": [
       "2.6578"
      ]
     },
     "execution_count": 11,
     "metadata": {},
     "output_type": "execute_result"
    }
   ],
   "source": [
    "float('2.6578')"
   ]
  },
  {
   "cell_type": "code",
   "execution_count": 12,
   "metadata": {},
   "outputs": [
    {
     "ename": "ValueError",
     "evalue": "could not convert string to float: temperature",
     "output_type": "error",
     "traceback": [
      "\u001b[0;31m---------------------------------------------------------------------------\u001b[0m",
      "\u001b[0;31mValueError\u001b[0m                                Traceback (most recent call last)",
      "\u001b[0;32m<ipython-input-12-ec057e781eba>\u001b[0m in \u001b[0;36m<module>\u001b[0;34m()\u001b[0m\n\u001b[0;32m----> 1\u001b[0;31m \u001b[0mfloat\u001b[0m\u001b[0;34m(\u001b[0m\u001b[0;34m'temperature'\u001b[0m\u001b[0;34m)\u001b[0m\u001b[0;34m\u001b[0m\u001b[0m\n\u001b[0m",
      "\u001b[0;31mValueError\u001b[0m: could not convert string to float: temperature"
     ]
    }
   ],
   "source": [
    "float('temperature')"
   ]
  },
  {
   "cell_type": "code",
   "execution_count": 13,
   "metadata": {},
   "outputs": [],
   "source": [
    "def function_float(x):\n",
    "    try:\n",
    "        return float(x)\n",
    "    except:\n",
    "        return(x)"
   ]
  },
  {
   "cell_type": "code",
   "execution_count": 14,
   "metadata": {},
   "outputs": [
    {
     "data": {
      "text/plain": [
       "3.7667"
      ]
     },
     "execution_count": 14,
     "metadata": {},
     "output_type": "execute_result"
    }
   ],
   "source": [
    "function_float('3.7667')"
   ]
  },
  {
   "cell_type": "code",
   "execution_count": 15,
   "metadata": {},
   "outputs": [
    {
     "data": {
      "text/plain": [
       "'atmosphere'"
      ]
     },
     "execution_count": 15,
     "metadata": {},
     "output_type": "execute_result"
    }
   ],
   "source": [
    "function_float('atmosphere') "
   ]
  },
  {
   "cell_type": "markdown",
   "metadata": {},
   "source": [
    "---"
   ]
  }
 ],
 "metadata": {
  "kernelspec": {
   "display_name": "Python 2",
   "language": "python",
   "name": "python2"
  },
  "language_info": {
   "codemirror_mode": {
    "name": "ipython",
    "version": 2
   },
   "file_extension": ".py",
   "mimetype": "text/x-python",
   "name": "python",
   "nbconvert_exporter": "python",
   "pygments_lexer": "ipython2",
   "version": "2.7.12"
  },
  "widgets": {
   "state": {},
   "version": "1.1.2"
  }
 },
 "nbformat": 4,
 "nbformat_minor": 1
}
