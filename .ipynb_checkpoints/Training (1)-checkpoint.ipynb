{
 "cells": [
  {
   "cell_type": "markdown",
   "metadata": {},
   "source": [
    "# Python Introduction\n",
    "---\n",
    "\n",
    "- Python is a widely used general-purpose, high level programming language.\n",
    "\n",
    "- Python is also a multi-paradigm language that supports object-oriented, procedural and functional programming.\n",
    "\n",
    "- It was initially designed by Guido van Rossum in 1991 and after developed by Python Software foundation in 2001.\n",
    "\n",
    "- It was mainly developed for emphasis on code readability.\n"
   ]
  },
  {
   "cell_type": "markdown",
   "metadata": {},
   "source": [
    "## Table of Contents\n",
    "\n",
    "\n",
    "<div class=\"alert alert-block alert-info\" style=\"margin-top: 20px\">\n",
    "<li><a href=\"#ref0\">About the Dataset</a></li>\n",
    "<li><a href=\"#ref9\">Comments</a></li>\n",
    "<li><a href=\"#ref11\">Python Indentation</a></li>\n",
    "<li><a href=\"#ref12\">Python Statements</a></li>\n",
    "<li><a href=\"#ref7\">Python Keywords</a></li>\n",
    "<li><a href=\"#ref8\">Python Identifier</a></li>\n",
    "<li><a href=\"#ref1\">Python Variable</a></li>\n",
    "<li><a href=\"#ref2\">Python Numbers</a></li>\n",
    "<li><a href=\"#ref3\">Strings in Python</a></li>\n",
    "<li><a href=\"#ref4\">Python Casting</a></li>\n",
    "<li><a href=\"#ref6\">Python Operators</a></li>\n",
    "</div>"
   ]
  },
  {
   "cell_type": "markdown",
   "metadata": {},
   "source": [
    "<a id=\"ref9\"></a>\n",
    "<h1 align=center> Comments</h1>\n",
    "\n",
    "---\n",
    "\n",
    "Comments are lines that exist in computer programs that are ignored by compilers and interpreters and is part of best practises followed.\n",
    "\n",
    "Including comments in programs makes code more readable for humans as it provides some information or explanation about what each part of a program is doing.\n",
    "\n",
    "In general, it is a good idea to write comments while you are writing or updating a program as it is easy to forget your thought process later on, and comments written later may be less useful in the long term.\n",
    "\n",
    "In Python, we use the hash (#) symbol to start writing a comment.\n"
   ]
  },
  {
   "cell_type": "code",
   "execution_count": 14,
   "metadata": {},
   "outputs": [
    {
     "name": "stdout",
     "output_type": "stream",
     "text": [
      "Hello, world\n"
     ]
    }
   ],
   "source": [
    "#Print Hello, world to console\n",
    "print(\"Hello, world\")"
   ]
  },
  {
   "cell_type": "markdown",
   "metadata": {},
   "source": [
    "<a id=\"ref11\"></a>\n",
    "<h1 align=center>Python Indentation</h1>\n",
    "\n",
    "---\n",
    "\n",
    "- Most of the programming languages like C, C++, Java use braces { } to define a block of code. Python uses indentation.\n",
    "\n",
    "- A code block (body of a function, loop etc.) starts with indentation and ends with the first unindented line. The amount of indentation is up to you, but it must be consistent throughout that block.\n",
    "\n",
    "- Generally four whitespaces are used for indentation and is preferred over tabs.\n",
    "\n"
   ]
  },
  {
   "cell_type": "code",
   "execution_count": 1,
   "metadata": {},
   "outputs": [
    {
     "name": "stdout",
     "output_type": "stream",
     "text": [
      "0\n",
      "1\n",
      "2\n",
      "3\n",
      "4\n",
      "5\n",
      "6\n",
      "7\n",
      "8\n",
      "9\n"
     ]
    }
   ],
   "source": [
    "for i in range(10):\n",
    "    print (i)"
   ]
  },
  {
   "cell_type": "markdown",
   "metadata": {},
   "source": [
    "<a id=\"ref12\"></a>\n",
    "<h1><center> Python Statement</center></h1>\n",
    "\n",
    "---\n",
    "\n",
    "\n",
    "\n",
    "Instructions that a Python interpreter can execute are called statements.\n",
    "\n",
    "Examples:\n"
   ]
  },
  {
   "cell_type": "code",
   "execution_count": null,
   "metadata": {},
   "outputs": [],
   "source": [
    "a = 1  #single statement\n",
    "b=2.0"
   ]
  },
  {
   "cell_type": "markdown",
   "metadata": {},
   "source": [
    "## Multi-Line Statement\n",
    "\n",
    "In Python, end of a statement is marked by a newline character. But we can make a statement extend over multiple lines with the line continuation character (\\)."
   ]
  },
  {
   "cell_type": "code",
   "execution_count": null,
   "metadata": {},
   "outputs": [],
   "source": [
    "a = 1 + 2 + 3 + \\\n",
    "    4 + 5 + 6 + \\\n",
    "    7 + 8\n",
    "b=1+2+3+4+5+6+7+8\n",
    "print (a)"
   ]
  },
  {
   "cell_type": "markdown",
   "metadata": {},
   "source": [
    "<a id=\"ref7\"></a>\n",
    "<h1 align=center> Python Keywords</h1>\n",
    "\n",
    "---\n",
    "- Keywords are the reserved words in python\n",
    "\n",
    "- We can't use a keyword as variable name, function name or any other identifier\n",
    "\n",
    "- Keywords are case sentive"
   ]
  },
  {
   "cell_type": "code",
   "execution_count": null,
   "metadata": {},
   "outputs": [],
   "source": [
    "#Get all keywords in python 2.7\n",
    "\n",
    "import keyword\n",
    "\n",
    "print(keyword.kwlist)\n",
    "\n",
    "print(\"Total number of keywords \", len(keyword.kwlist))"
   ]
  },
  {
   "cell_type": "markdown",
   "metadata": {},
   "source": [
    "<a id=\"ref8\"></a>\n",
    "<h1 align=center> Python Identifier </h1>\n",
    "\n",
    "---\n",
    "\n",
    "Identifier is the name given to entities like class, functions, variables etc. in Python. It helps differentiating one entity from another.\n",
    "\n",
    "Rules for Writing Identifiers:\n",
    "\n",
    "- Identifiers can be a combination of letters in lowercase (a to z) or uppercase (A to Z) or digits (0 to 9) or an underscore (_).\n",
    "\n",
    "- An identifier cannot start with a digit. 1variable is invalid, but variable1 is perfectly fine.\n",
    "\n",
    "- Keywords cannot be used as identifiers.\n",
    "\n"
   ]
  },
  {
   "cell_type": "markdown",
   "metadata": {},
   "source": [
    "<a id=\"ref1\"></a>\n",
    "<h1 align=center> Python Variable </h1>\n",
    "\n",
    "---\n",
    "- Variables are representations of quantities.\n",
    "\n",
    "- They can be given any name and can hold any value."
   ]
  },
  {
   "cell_type": "markdown",
   "metadata": {},
   "source": [
    "## Rules for creating variable names:\n",
    "---\n",
    "\n",
    "1. Must begin with a letter (a - z, A - B) or underscore (_)\n",
    "2. Other characters can be letters, numbers or _\n",
    "3. Case Sensitive\n",
    "4. Can be any (reasonable) length\n",
    "5. There are some reserved words which you cannot use as a variable name because Python uses them for other things."
   ]
  },
  {
   "cell_type": "markdown",
   "metadata": {},
   "source": [
    "We can also **store** our output in **variables**, so we can use them later on. For example:"
   ]
  },
  {
   "cell_type": "code",
   "execution_count": 23,
   "metadata": {},
   "outputs": [],
   "source": [
    "x=43+54+56"
   ]
  },
  {
   "cell_type": "markdown",
   "metadata": {},
   "source": [
    "### Output Variable:\n",
    "\n",
    "1. Python **print** statement is often used to output variables.\n",
    "2. Or you can just type varibale name to see output."
   ]
  },
  {
   "cell_type": "markdown",
   "metadata": {},
   "source": [
    "To return the value of x, we can simply run the variable as a command:"
   ]
  },
  {
   "cell_type": "code",
   "execution_count": null,
   "metadata": {},
   "outputs": [],
   "source": [
    "print (x)"
   ]
  },
  {
   "cell_type": "markdown",
   "metadata": {},
   "source": [
    "We can also perform operations on **`x`** and save the result to a **new variable**:"
   ]
  },
  {
   "cell_type": "code",
   "execution_count": null,
   "metadata": {},
   "outputs": [],
   "source": [
    "y = x / 40\n",
    "print (y)"
   ]
  },
  {
   "cell_type": "markdown",
   "metadata": {},
   "source": [
    "To combine both text and a variable, Python uses the **+ character**:"
   ]
  },
  {
   "cell_type": "code",
   "execution_count": null,
   "metadata": {},
   "outputs": [],
   "source": [
    "x = \"awesome\"\n",
    "print(\"Python is \" + x)"
   ]
  },
  {
   "cell_type": "markdown",
   "metadata": {},
   "source": [
    "You can also use the + character to add a variable to another variable:"
   ]
  },
  {
   "cell_type": "code",
   "execution_count": null,
   "metadata": {},
   "outputs": [],
   "source": [
    "x = \"Python is \"\n",
    "y = \"awesome\"\n",
    "z =  x + y\n",
    "print(z)\n",
    "#For numbers, the + character works as a mathematical operator:"
   ]
  },
  {
   "cell_type": "markdown",
   "metadata": {},
   "source": [
    "<a id=\"ref2\"></a>\n",
    "<h1 align=center> Python Numbers </h1>\n",
    "\n",
    "---\n",
    "There are three numeric types in Python:\n",
    "\n",
    "- int\n",
    "- float\n",
    "- complex\n",
    "\n",
    "Variables of numeric types are created when you assign a value to them:"
   ]
  },
  {
   "cell_type": "code",
   "execution_count": 33,
   "metadata": {},
   "outputs": [],
   "source": [
    "x = 1       # int\n",
    "y = 1.8    # float\n",
    "z = 4j      # complex"
   ]
  },
  {
   "cell_type": "code",
   "execution_count": null,
   "metadata": {},
   "outputs": [],
   "source": [
    "#To verify the type of any object in Python, use the **type()** function as it detects it automatically:\n",
    "print (type(x))\n",
    "print (type(y))\n",
    "print (type(z))"
   ]
  },
  {
   "cell_type": "markdown",
   "metadata": {},
   "source": [
    "<a id=\"ref3\"></a>\n",
    "<h1 align=center>Strings in Python</h1>\n",
    "Python isn't just about numbers -- we can also have strings too. For example:"
   ]
  },
  {
   "cell_type": "code",
   "execution_count": null,
   "metadata": {},
   "outputs": [],
   "source": [
    "Organization_Name = \"American Express India Private Limited\"\n",
    "print (\"AEIPL stand for : \" +Organization_Name)"
   ]
  },
  {
   "cell_type": "markdown",
   "metadata": {},
   "source": [
    "<br>\n",
    "<br>\n",
    "<a id=\"ref4\"></a>\n",
    "<h1 align=center>Python Casting</h1>\n",
    "\n",
    "---\n",
    "\n",
    "There may be times when you want to specify a type on to a variable. This can be done with casting. Python is an object-orientated language, and as such it uses classes to define data types, including its primitive types.\n",
    "\n",
    "Casting in python is therefore done using constructor functions:\n",
    "\n",
    "- int() - constructs an integer number from an integer literal, a float literal (by rounding down to the previous whole number), or a string literal (providing the string represents a whole number)\n",
    "- float() - constructs a float number from an integer literal, a float literal or a string literal (providing the string represents a float or an integer)\n",
    "- str() - constructs a string from a wide variety of data types, including strings, integer literals and float literals\n"
   ]
  },
  {
   "cell_type": "code",
   "execution_count": null,
   "metadata": {},
   "outputs": [],
   "source": [
    "x = int(1)   # x will be 1\n",
    "y = int(2.8) # y will be 2\n",
    "z = int(\"3\") # z will be 3\n",
    "print (x)\n",
    "print (y)\n",
    "print (z)"
   ]
  },
  {
   "cell_type": "code",
   "execution_count": null,
   "metadata": {},
   "outputs": [],
   "source": [
    "print (type(x))\n",
    "print (type(y))\n",
    "print (type(z))"
   ]
  },
  {
   "cell_type": "markdown",
   "metadata": {},
   "source": [
    "<a id=\"ref6\"></a>\n",
    "<h1 align=center>Python  Arithmetic Operators</h1>\n",
    "\n",
    "---\n",
    "1.  Arithmetic operators are used to perform mathematical operations like addition, subtraction, multiplication and division.\n",
    "\n",
    "<img src = \"arith_operators.png\" width = 700, align = \"center\">"
   ]
  }
 ],
 "metadata": {
  "kernelspec": {
   "display_name": "Python 2",
   "language": "python",
   "name": "python2"
  },
  "language_info": {
   "codemirror_mode": {
    "name": "ipython",
    "version": 2
   },
   "file_extension": ".py",
   "mimetype": "text/x-python",
   "name": "python",
   "nbconvert_exporter": "python",
   "pygments_lexer": "ipython2",
   "version": "2.7.12"
  },
  "projectdetails": {
   "creator_id": "skuma884",
   "notebook_id": "d9cadaed-b385-4173-89b0-106d0803ab13",
   "notebook_name": "Training.ipynb",
   "prod_sys": null,
   "project_desc": "Machine Learning First Project",
   "project_id": "e49c2355-f9fd-4609-b41c-08246ca78474",
   "project_name": "sanchit_ml",
   "project_status": null,
   "status": "new"
  }
 },
 "nbformat": 4,
 "nbformat_minor": 2
}
